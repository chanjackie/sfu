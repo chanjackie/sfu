{
 "cells": [
  {
   "cell_type": "code",
   "execution_count": 1,
   "metadata": {},
   "outputs": [],
   "source": [
    "import pandas as pd\n",
    "import numpy as np\n",
    "import matplotlib.pyplot as plt"
   ]
  },
  {
   "cell_type": "code",
   "execution_count": 2,
   "metadata": {},
   "outputs": [
    {
     "data": {
      "text/html": [
       "<div>\n",
       "<style scoped>\n",
       "    .dataframe tbody tr th:only-of-type {\n",
       "        vertical-align: middle;\n",
       "    }\n",
       "\n",
       "    .dataframe tbody tr th {\n",
       "        vertical-align: top;\n",
       "    }\n",
       "\n",
       "    .dataframe thead th {\n",
       "        text-align: right;\n",
       "    }\n",
       "</style>\n",
       "<table border=\"1\" class=\"dataframe\">\n",
       "  <thead>\n",
       "    <tr style=\"text-align: right;\">\n",
       "      <th></th>\n",
       "      <th>id</th>\n",
       "      <th>created_at</th>\n",
       "      <th>text</th>\n",
       "    </tr>\n",
       "  </thead>\n",
       "  <tbody>\n",
       "    <tr>\n",
       "      <th>0</th>\n",
       "      <td>994677639364403200</td>\n",
       "      <td>2018-05-10 20:36:44</td>\n",
       "      <td>@Steff88979267 tell them to h*ck off</td>\n",
       "    </tr>\n",
       "    <tr>\n",
       "      <th>1</th>\n",
       "      <td>994364904978239488</td>\n",
       "      <td>2018-05-09 23:54:02</td>\n",
       "      <td>@NFLOwnerGBP take it back</td>\n",
       "    </tr>\n",
       "    <tr>\n",
       "      <th>2</th>\n",
       "      <td>994363623421153280</td>\n",
       "      <td>2018-05-09 23:48:56</td>\n",
       "      <td>This is Louie. He has misplaced his Cheerio. W...</td>\n",
       "    </tr>\n",
       "    <tr>\n",
       "      <th>3</th>\n",
       "      <td>994336722875047936</td>\n",
       "      <td>2018-05-09 22:02:03</td>\n",
       "      <td>@rachaellanaghan ❤️</td>\n",
       "    </tr>\n",
       "    <tr>\n",
       "      <th>4</th>\n",
       "      <td>994024065982717952</td>\n",
       "      <td>2018-05-09 01:19:40</td>\n",
       "      <td>This is Captain Jack Wobbles. He is currently ...</td>\n",
       "    </tr>\n",
       "    <tr>\n",
       "      <th>...</th>\n",
       "      <td>...</td>\n",
       "      <td>...</td>\n",
       "      <td>...</td>\n",
       "    </tr>\n",
       "    <tr>\n",
       "      <th>8510</th>\n",
       "      <td>1027980978910687233</td>\n",
       "      <td>2018-08-10 18:12:18</td>\n",
       "      <td>@GregWWoods thanks for donating $10.00 to @dog...</td>\n",
       "    </tr>\n",
       "    <tr>\n",
       "      <th>8511</th>\n",
       "      <td>1027976875811819520</td>\n",
       "      <td>2018-08-10 17:56:00</td>\n",
       "      <td>@DiannaC thanks for donating $10.00 to @dog_ra...</td>\n",
       "    </tr>\n",
       "    <tr>\n",
       "      <th>8512</th>\n",
       "      <td>1027970381766963202</td>\n",
       "      <td>2018-08-10 17:30:12</td>\n",
       "      <td>@runnjen @livelikeroo @Goodworld omg Justice y...</td>\n",
       "    </tr>\n",
       "    <tr>\n",
       "      <th>8513</th>\n",
       "      <td>1027967697684815873</td>\n",
       "      <td>2018-08-10 17:19:32</td>\n",
       "      <td>@shelbymorganart thanks for donating $10.00 to...</td>\n",
       "    </tr>\n",
       "    <tr>\n",
       "      <th>8514</th>\n",
       "      <td>1027963039029452800</td>\n",
       "      <td>2018-08-10 17:01:01</td>\n",
       "      <td>@xo_taylernicole thanks for donating to @dog_r...</td>\n",
       "    </tr>\n",
       "  </tbody>\n",
       "</table>\n",
       "<p>8515 rows × 3 columns</p>\n",
       "</div>"
      ],
      "text/plain": [
       "                       id           created_at  \\\n",
       "0      994677639364403200  2018-05-10 20:36:44   \n",
       "1      994364904978239488  2018-05-09 23:54:02   \n",
       "2      994363623421153280  2018-05-09 23:48:56   \n",
       "3      994336722875047936  2018-05-09 22:02:03   \n",
       "4      994024065982717952  2018-05-09 01:19:40   \n",
       "...                   ...                  ...   \n",
       "8510  1027980978910687233  2018-08-10 18:12:18   \n",
       "8511  1027976875811819520  2018-08-10 17:56:00   \n",
       "8512  1027970381766963202  2018-08-10 17:30:12   \n",
       "8513  1027967697684815873  2018-08-10 17:19:32   \n",
       "8514  1027963039029452800  2018-08-10 17:01:01   \n",
       "\n",
       "                                                   text  \n",
       "0                  @Steff88979267 tell them to h*ck off  \n",
       "1                             @NFLOwnerGBP take it back  \n",
       "2     This is Louie. He has misplaced his Cheerio. W...  \n",
       "3                                   @rachaellanaghan ❤️  \n",
       "4     This is Captain Jack Wobbles. He is currently ...  \n",
       "...                                                 ...  \n",
       "8510  @GregWWoods thanks for donating $10.00 to @dog...  \n",
       "8511  @DiannaC thanks for donating $10.00 to @dog_ra...  \n",
       "8512  @runnjen @livelikeroo @Goodworld omg Justice y...  \n",
       "8513  @shelbymorganart thanks for donating $10.00 to...  \n",
       "8514  @xo_taylernicole thanks for donating to @dog_r...  \n",
       "\n",
       "[8515 rows x 3 columns]"
      ]
     },
     "execution_count": 2,
     "metadata": {},
     "output_type": "execute_result"
    }
   ],
   "source": [
    "dog_data = pd.read_csv('dog_rates_tweets.csv', parse_dates=[1])\n",
    "dog_data"
   ]
  },
  {
   "cell_type": "code",
   "execution_count": 3,
   "metadata": {},
   "outputs": [
    {
     "data": {
      "text/plain": [
       "2       14.0\n",
       "7       13.0\n",
       "8       14.0\n",
       "24      13.0\n",
       "30      13.0\n",
       "        ... \n",
       "7363    14.0\n",
       "7369    14.0\n",
       "7381    13.0\n",
       "7431    14.0\n",
       "7433    13.0\n",
       "Name: 0, Length: 1669, dtype: float64"
      ]
     },
     "execution_count": 3,
     "metadata": {},
     "output_type": "execute_result"
    }
   ],
   "source": [
    "rating_data = dog_data['text'].str.extract(r'(\\d+(\\.\\d+)?)/10')\n",
    "rating_data = rating_data[0].astype(float)\n",
    "rating_data = rating_data.dropna()\n",
    "rating_data = rating_data[rating_data<=25]\n",
    "rating_data"
   ]
  },
  {
   "cell_type": "code",
   "execution_count": null,
   "metadata": {},
   "outputs": [],
   "source": [
    "dog_"
   ]
  }
 ],
 "metadata": {
  "kernelspec": {
   "display_name": "Python 3",
   "language": "python",
   "name": "python3"
  },
  "language_info": {
   "codemirror_mode": {
    "name": "ipython",
    "version": 3
   },
   "file_extension": ".py",
   "mimetype": "text/x-python",
   "name": "python",
   "nbconvert_exporter": "python",
   "pygments_lexer": "ipython3",
   "version": "3.7.7"
  }
 },
 "nbformat": 4,
 "nbformat_minor": 4
}
