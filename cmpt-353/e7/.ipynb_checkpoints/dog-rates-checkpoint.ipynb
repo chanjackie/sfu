{
 "cells": [
  {
   "cell_type": "code",
   "execution_count": 1,
   "metadata": {},
   "outputs": [],
   "source": [
    "import pandas as pd\n",
    "import numpy as np\n",
    "import matplotlib.pyplot as plt\n",
    "from scipy.stats import linregress"
   ]
  },
  {
   "cell_type": "code",
   "execution_count": 2,
   "metadata": {},
   "outputs": [],
   "source": [
    "dog_data = pd.read_csv('dog_rates_tweets.csv', parse_dates=[1])"
   ]
  },
  {
   "cell_type": "code",
   "execution_count": 3,
   "metadata": {},
   "outputs": [],
   "source": [
    "rating_data = dog_data['text'].str.extract(r'(\\d+(\\.\\d+)?)/10')\n",
    "rating_data = rating_data[0].astype(float)\n",
    "dog_data['rating'] = rating_data\n",
    "dog_data = dog_data.dropna()\n",
    "dog_data = dog_data[dog_data['rating']<=25]"
   ]
  },
  {
   "cell_type": "code",
   "execution_count": 4,
   "metadata": {},
   "outputs": [],
   "source": [
    "def to_timestamp(date):\n",
    "    return date.timestamp()"
   ]
  },
  {
   "cell_type": "code",
   "execution_count": 5,
   "metadata": {},
   "outputs": [],
   "source": [
    "dog_data['timestamp'] = dog_data['created_at'].apply(to_timestamp)\n",
    "fit = linregress(dog_data['timestamp'].values, dog_data['rating'].values)"
   ]
  },
  {
   "cell_type": "code",
   "execution_count": 6,
   "metadata": {},
   "outputs": [],
   "source": [
    "dog_data['prediction'] = fit.intercept + fit.slope*dog_data['timestamp'].values"
   ]
  },
  {
   "cell_type": "code",
   "execution_count": 7,
   "metadata": {},
   "outputs": [
    {
     "data": {
      "text/html": [
       "<div>\n",
       "<style scoped>\n",
       "    .dataframe tbody tr th:only-of-type {\n",
       "        vertical-align: middle;\n",
       "    }\n",
       "\n",
       "    .dataframe tbody tr th {\n",
       "        vertical-align: top;\n",
       "    }\n",
       "\n",
       "    .dataframe thead th {\n",
       "        text-align: right;\n",
       "    }\n",
       "</style>\n",
       "<table border=\"1\" class=\"dataframe\">\n",
       "  <thead>\n",
       "    <tr style=\"text-align: right;\">\n",
       "      <th></th>\n",
       "      <th>id</th>\n",
       "      <th>created_at</th>\n",
       "      <th>text</th>\n",
       "      <th>rating</th>\n",
       "      <th>timestamp</th>\n",
       "      <th>prediction</th>\n",
       "    </tr>\n",
       "  </thead>\n",
       "  <tbody>\n",
       "    <tr>\n",
       "      <th>2</th>\n",
       "      <td>994363623421153280</td>\n",
       "      <td>2018-05-09 23:48:56</td>\n",
       "      <td>This is Louie. He has misplaced his Cheerio. W...</td>\n",
       "      <td>14.0</td>\n",
       "      <td>1.525910e+09</td>\n",
       "      <td>13.185763</td>\n",
       "    </tr>\n",
       "    <tr>\n",
       "      <th>7</th>\n",
       "      <td>993889039714578432</td>\n",
       "      <td>2018-05-08 16:23:07</td>\n",
       "      <td>This is Manny. He hasn’t seen your croissant. ...</td>\n",
       "      <td>13.0</td>\n",
       "      <td>1.525797e+09</td>\n",
       "      <td>13.181785</td>\n",
       "    </tr>\n",
       "    <tr>\n",
       "      <th>8</th>\n",
       "      <td>993629544463642624</td>\n",
       "      <td>2018-05-07 23:11:58</td>\n",
       "      <td>This is Libby. She leap. 14/10\\n(IG: libbythef...</td>\n",
       "      <td>14.0</td>\n",
       "      <td>1.525735e+09</td>\n",
       "      <td>13.179609</td>\n",
       "    </tr>\n",
       "    <tr>\n",
       "      <th>24</th>\n",
       "      <td>992198572664860672</td>\n",
       "      <td>2018-05-04 00:25:48</td>\n",
       "      <td>This is Rosie. She thought Coachella was this ...</td>\n",
       "      <td>13.0</td>\n",
       "      <td>1.525394e+09</td>\n",
       "      <td>13.167614</td>\n",
       "    </tr>\n",
       "    <tr>\n",
       "      <th>30</th>\n",
       "      <td>991744041351090177</td>\n",
       "      <td>2018-05-02 18:19:39</td>\n",
       "      <td>This is Riley. He’ll be your chauffeur this ev...</td>\n",
       "      <td>13.0</td>\n",
       "      <td>1.525285e+09</td>\n",
       "      <td>13.163804</td>\n",
       "    </tr>\n",
       "    <tr>\n",
       "      <th>...</th>\n",
       "      <td>...</td>\n",
       "      <td>...</td>\n",
       "      <td>...</td>\n",
       "      <td>...</td>\n",
       "      <td>...</td>\n",
       "      <td>...</td>\n",
       "    </tr>\n",
       "    <tr>\n",
       "      <th>7363</th>\n",
       "      <td>1032725635888803841</td>\n",
       "      <td>2018-08-23 20:25:53</td>\n",
       "      <td>This is Noodles. He had brain surgery earlier ...</td>\n",
       "      <td>14.0</td>\n",
       "      <td>1.535056e+09</td>\n",
       "      <td>13.507338</td>\n",
       "    </tr>\n",
       "    <tr>\n",
       "      <th>7369</th>\n",
       "      <td>1032310288652152832</td>\n",
       "      <td>2018-08-22 16:55:26</td>\n",
       "      <td>This is Pingo and Nina. They are believed to b...</td>\n",
       "      <td>14.0</td>\n",
       "      <td>1.534957e+09</td>\n",
       "      <td>13.503856</td>\n",
       "    </tr>\n",
       "    <tr>\n",
       "      <th>7381</th>\n",
       "      <td>1031696422813544448</td>\n",
       "      <td>2018-08-21 00:16:09</td>\n",
       "      <td>This is Nikita. She got caught in some wild fl...</td>\n",
       "      <td>13.0</td>\n",
       "      <td>1.534811e+09</td>\n",
       "      <td>13.498710</td>\n",
       "    </tr>\n",
       "    <tr>\n",
       "      <th>7431</th>\n",
       "      <td>1029767403545288706</td>\n",
       "      <td>2018-08-15 16:30:55</td>\n",
       "      <td>This is Winston. He came home for the first ti...</td>\n",
       "      <td>14.0</td>\n",
       "      <td>1.534351e+09</td>\n",
       "      <td>13.482540</td>\n",
       "    </tr>\n",
       "    <tr>\n",
       "      <th>7433</th>\n",
       "      <td>1029550934408486912</td>\n",
       "      <td>2018-08-15 02:10:45</td>\n",
       "      <td>RT @dog_rates: Here's a doggo realizing you ca...</td>\n",
       "      <td>13.0</td>\n",
       "      <td>1.534299e+09</td>\n",
       "      <td>13.480725</td>\n",
       "    </tr>\n",
       "  </tbody>\n",
       "</table>\n",
       "<p>1669 rows × 6 columns</p>\n",
       "</div>"
      ],
      "text/plain": [
       "                       id          created_at  \\\n",
       "2      994363623421153280 2018-05-09 23:48:56   \n",
       "7      993889039714578432 2018-05-08 16:23:07   \n",
       "8      993629544463642624 2018-05-07 23:11:58   \n",
       "24     992198572664860672 2018-05-04 00:25:48   \n",
       "30     991744041351090177 2018-05-02 18:19:39   \n",
       "...                   ...                 ...   \n",
       "7363  1032725635888803841 2018-08-23 20:25:53   \n",
       "7369  1032310288652152832 2018-08-22 16:55:26   \n",
       "7381  1031696422813544448 2018-08-21 00:16:09   \n",
       "7431  1029767403545288706 2018-08-15 16:30:55   \n",
       "7433  1029550934408486912 2018-08-15 02:10:45   \n",
       "\n",
       "                                                   text  rating     timestamp  \\\n",
       "2     This is Louie. He has misplaced his Cheerio. W...    14.0  1.525910e+09   \n",
       "7     This is Manny. He hasn’t seen your croissant. ...    13.0  1.525797e+09   \n",
       "8     This is Libby. She leap. 14/10\\n(IG: libbythef...    14.0  1.525735e+09   \n",
       "24    This is Rosie. She thought Coachella was this ...    13.0  1.525394e+09   \n",
       "30    This is Riley. He’ll be your chauffeur this ev...    13.0  1.525285e+09   \n",
       "...                                                 ...     ...           ...   \n",
       "7363  This is Noodles. He had brain surgery earlier ...    14.0  1.535056e+09   \n",
       "7369  This is Pingo and Nina. They are believed to b...    14.0  1.534957e+09   \n",
       "7381  This is Nikita. She got caught in some wild fl...    13.0  1.534811e+09   \n",
       "7431  This is Winston. He came home for the first ti...    14.0  1.534351e+09   \n",
       "7433  RT @dog_rates: Here's a doggo realizing you ca...    13.0  1.534299e+09   \n",
       "\n",
       "      prediction  \n",
       "2      13.185763  \n",
       "7      13.181785  \n",
       "8      13.179609  \n",
       "24     13.167614  \n",
       "30     13.163804  \n",
       "...          ...  \n",
       "7363   13.507338  \n",
       "7369   13.503856  \n",
       "7381   13.498710  \n",
       "7431   13.482540  \n",
       "7433   13.480725  \n",
       "\n",
       "[1669 rows x 6 columns]"
      ]
     },
     "execution_count": 7,
     "metadata": {},
     "output_type": "execute_result"
    }
   ],
   "source": [
    "dog_data"
   ]
  },
  {
   "cell_type": "code",
   "execution_count": 8,
   "metadata": {},
   "outputs": [
    {
     "data": {
      "text/plain": [
       "(3.5159299748477226e-08, -40.46415480898918)"
      ]
     },
     "execution_count": 8,
     "metadata": {},
     "output_type": "execute_result"
    }
   ],
   "source": [
    "fit.slope, fit.intercept"
   ]
  },
  {
   "cell_type": "code",
   "execution_count": 9,
   "metadata": {
    "scrolled": true
   },
   "outputs": [
    {
     "data": {
      "image/png": "[encoded data removed]",
      "text/plain": [
       "<Figure size 432x288 with 1 Axes>"
      ]
     },
     "metadata": {
      "needs_background": "light"
     },
     "output_type": "display_data"
    }
   ],
   "source": [
    "plt.xticks(rotation=25)\n",
    "plt.xlabel('Date of Rating')\n",
    "plt.ylabel('Dog Rating')\n",
    "plt.title('WeRateDogs Dog Ratings over Time')\n",
    "plt.plot(dog_data['created_at'].values, dog_data['rating'].values, 'b.', alpha=0.5)\n",
    "plt.plot(dog_data['created_at'].values, dog_data['prediction'].values, 'r-', linewidth=3)\n",
    "plt.show()"
   ]
  },
  {
   "cell_type": "code",
   "execution_count": 10,
   "metadata": {},
   "outputs": [
    {
     "name": "stdout",
     "output_type": "stream",
     "text": [
      "1.5139606492959894e-106\n"
     ]
    }
   ],
   "source": [
    "print(fit.pvalue)"
   ]
  },
  {
   "cell_type": "code",
   "execution_count": 11,
   "metadata": {},
   "outputs": [
    {
     "name": "stdout",
     "output_type": "stream",
     "text": [
      "2       0.814237\n",
      "7      -0.181785\n",
      "8       0.820391\n",
      "24     -0.167614\n",
      "30     -0.163804\n",
      "          ...   \n",
      "7363    0.492662\n",
      "7369    0.496144\n",
      "7381   -0.498710\n",
      "7431    0.517460\n",
      "7433   -0.480725\n",
      "Length: 1669, dtype: float64\n"
     ]
    }
   ],
   "source": [
    "residuals = dog_data['rating'] - (fit.slope*dog_data['timestamp'] + fit.intercept)\n",
    "print(residuals)"
   ]
  },
  {
   "cell_type": "code",
   "execution_count": 12,
   "metadata": {},
   "outputs": [
    {
     "data": {
      "image/png": "[encoded data removed]",
      "text/plain": [
       "<Figure size 432x288 with 1 Axes>"
      ]
     },
     "metadata": {
      "needs_background": "light"
     },
     "output_type": "display_data"
    }
   ],
   "source": [
    "plt.hist(residuals)\n",
    "plt.show()"
   ]
  }
 ],
 "metadata": {
  "kernelspec": {
   "display_name": "Python 3",
   "language": "python",
   "name": "python3"
  },
  "language_info": {
   "codemirror_mode": {
    "name": "ipython",
    "version": 3
   },
   "file_extension": ".py",
   "mimetype": "text/x-python",
   "name": "python",
   "nbconvert_exporter": "python",
   "pygments_lexer": "ipython3",
   "version": "3.7.7"
  }
 },
 "nbformat": 4,
 "nbformat_minor": 4
}
